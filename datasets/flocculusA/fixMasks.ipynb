{
 "cells": [
  {
   "cell_type": "code",
   "execution_count": 152,
   "metadata": {},
   "outputs": [],
   "source": [
    "import numpy as np\n",
    "from matplotlib.patches import Ellipse\n",
    "from skimage.feature import peak_local_max\n",
    "from skimage.measure import label, regionprops\n",
    "from sklearn import mixture\n",
    "import sys\n",
    "from skimage.draw import circle\n",
    "import dognet\n",
    "\n",
    "\n",
    "import matplotlib\n",
    "import matplotlib.pyplot as plt\n",
    "import os\n",
    "from oiffile import imread\n",
    "from PIL import Image\n",
    "import random\n",
    "import skimage\n",
    "from skimage.transform import resize\n",
    "import glob\n",
    "import torch\n",
    "import sys\n",
    "sys.path.insert(0, '..')\n",
    "import scipy.io as sio\n",
    "import matplotlib.patches as patches\n",
    "from matplotlib_scalebar.scalebar import ScaleBar\n",
    "from skimage.transform import rescale\n",
    "from sklearn.metrics import roc_curve, auc\n",
    "\n"
   ]
  },
  {
   "cell_type": "code",
   "execution_count": 153,
   "metadata": {},
   "outputs": [],
   "source": [
    "from skimage.draw import circle\n",
    "def make_labels(ys,xs,radius=4):\n",
    "    labels = np.zeros((230,230))\n",
    "    for xv,yv in zip(xs,ys):\n",
    "        rr,cc = circle(xv,yv,radius,labels.shape)\n",
    "        \n",
    "        labels[rr,cc]=1\n",
    "    return labels\n",
    "\n",
    "#Train set\n",
    "def make_training_set(labels,indexes):\n",
    "    train_labels = []\n",
    "    for i in indexes:\n",
    "        if len(labels[i])==0:\n",
    "            d = np.zeros((230,230))\n",
    "        else:\n",
    "            d = make_labels(np.array(labels[i])[:,0],np.array(labels[i])[:,1])\n",
    "        train_labels.append(d)\n",
    "    return train_labels"
   ]
  },
  {
   "cell_type": "code",
   "execution_count": 154,
   "metadata": {},
   "outputs": [
    {
     "name": "stdout",
     "output_type": "stream",
     "text": [
      "['Track0011_01\\n', 'Track0011_09\\n', 'Track0011_14\\n', 'Track0030_00\\n', 'Track0030_10\\n', 'Track0030_13\\n', 'Track0038_01\\n', 'Track0040_03\\n', 'Track0040_05\\n', 'Track0040_14\\n', 'Track0045_06\\n', 'Track0045_10\\n', 'Track0045_14\\n', 'Track0050_01\\n', 'Track0050_03\\n', 'Track0050_07\\n', 'Track0063_02\\n', 'Track0063_12\\n', 'Track0063_15\\n', 'Track0070_04\\n', 'Track0070_08\\n', 'Track0070_14\\n', 'Track0080_04\\n', 'Track0080_10\\n', 'Track0080_13\\n', 'Track0084_06\\n', 'Track0084_10\\n', 'Track0084_14\\n', 'Track0090_03\\n', 'Track0090_08\\n', 'Track0090_11\\n', 'Track0092_01\\n', 'Track0092_08\\n', 'Track0092_15\\n', 'Track0110_03\\n', 'Track0110_08\\n', 'Track0110_15\\n', 'Track0113_05\\n', 'Track0120_02\\n', 'Track0120_06\\n', 'Track0120_09\\n', 'Track0122_00\\n', 'Track0122_09\\n', 'Track0122_13\\n', 'Track0201_00\\n', 'Track0201_04\\n', 'Track0201_14\\n']\n"
     ]
    }
   ],
   "source": [
    "lines = []\n",
    "with open(\"imagesUsed.txt\") as fin:\n",
    "    lines = fin.readlines()\n",
    "lines.sort()   \n",
    "print(lines)"
   ]
  },
  {
   "cell_type": "code",
   "execution_count": 151,
   "metadata": {},
   "outputs": [],
   "source": [
    "for k in range(0,47):\n",
    "    name = lines[k]\n",
    "    name = name[:12]\n",
    "    \n",
    "    coordName = \"rawCoordinates/%s_rawCoords.npy\" % (name)\n",
    "    with open(coordName) as fin:\n",
    "        coors = fin.readlines()\n",
    "    \n",
    "    pt = np.zeros((len(coors), 2))\n",
    "    for i in range(0,len(coors)):\n",
    "        xy = coors[i]\n",
    "        x=xy[:25]\n",
    "        y=xy[25:]\n",
    "        x=float(x)\n",
    "        y=float(y)\n",
    "        point=np.arange(2)\n",
    "        pt[i][0] = x\n",
    "        pt[i][1] = y\n",
    "\n",
    "    b = [[] for i in range(0,4)]\n",
    "    \n",
    "    for j in pt:\n",
    "        if j[0] < 460 and j[1] < 460:\n",
    "            point = np.copy(j)\n",
    "            (b[0]).append(.5*np.array(point))\n",
    "\n",
    "        if j[0] > 340 and j[1] < 460:\n",
    "            point = np.copy(j)\n",
    "            point[0]=point[0]-340\n",
    "            (b[1]).append(.5*np.array(point))\n",
    "      \n",
    "        if j[0] < 460 and j[1] > 340:\n",
    "            point = np.copy(j)\n",
    "            point[1]=point[1]-340\n",
    "            (b[2]).append(.5*np.array(point))\n",
    "        \n",
    "        if j[0] > 340 and j[1] > 340:\n",
    "            point = np.copy(j)\n",
    "            point[0]=point[0]-340\n",
    "            point[1]=point[1]-340\n",
    "            (b[3]).append(.5*np.array(point))\n",
    "\n",
    "    train_labels = make_training_set(b,range(0,4))\n",
    "\n",
    "    smallPicturesNames=['UL','UR','LL','LR']\n",
    "    \n",
    "    for j in range(0,4): \n",
    "        maskStr=\"newTrainingMasks/%s_%s_mask.npy\" % (name,smallPicturesNames[j])\n",
    "\n",
    "        #np.save(maskStr, train_labels[j])"
   ]
  },
  {
   "cell_type": "code",
   "execution_count": null,
   "metadata": {},
   "outputs": [],
   "source": []
  }
 ],
 "metadata": {
  "kernelspec": {
   "display_name": "Python 3",
   "language": "python",
   "name": "python3"
  },
  "language_info": {
   "codemirror_mode": {
    "name": "ipython",
    "version": 3
   },
   "file_extension": ".py",
   "mimetype": "text/x-python",
   "name": "python",
   "nbconvert_exporter": "python",
   "pygments_lexer": "ipython3",
   "version": "3.6.8"
  }
 },
 "nbformat": 4,
 "nbformat_minor": 2
}
