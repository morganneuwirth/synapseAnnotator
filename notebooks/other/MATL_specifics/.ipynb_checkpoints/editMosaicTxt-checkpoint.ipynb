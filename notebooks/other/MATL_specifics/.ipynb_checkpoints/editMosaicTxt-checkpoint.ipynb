{
 "cells": [
  {
   "cell_type": "code",
   "execution_count": 1,
   "metadata": {},
   "outputs": [],
   "source": [
    "import matplotlib.pyplot as plt\n",
    "import numpy as np\n",
    "import os"
   ]
  },
  {
   "cell_type": "code",
   "execution_count": 2,
   "metadata": {},
   "outputs": [],
   "source": [
    "# open mosaic file\n",
    "with open(r'C:\\Users\\CGuo\\Desktop\\vermisA\\MATL_Mosaic.txt', 'r') as reader:\n",
    "    lines = reader.readlines()"
   ]
  },
  {
   "cell_type": "code",
   "execution_count": 5,
   "metadata": {},
   "outputs": [],
   "source": [
    "# edit file to read correct file names and type\n",
    "with open(r'C:\\Users\\CGuo\\Desktop\\vermisA\\MATL_MOSAIC.txt', 'w') as writer:\n",
    "    for i in range(0,3):\n",
    "        writer.write(lines[i])\n",
    "    \n",
    "    for i in range(3,835):\n",
    "        name = lines[i][10:]\n",
    "        name = name.replace(\"oib\", \"tif\")\n",
    "        writer.write(name)"
   ]
  },
  {
   "cell_type": "code",
   "execution_count": null,
   "metadata": {},
   "outputs": [],
   "source": []
  }
 ],
 "metadata": {
  "kernelspec": {
   "display_name": "Python 3",
   "language": "python",
   "name": "python3"
  },
  "language_info": {
   "codemirror_mode": {
    "name": "ipython",
    "version": 3
   },
   "file_extension": ".py",
   "mimetype": "text/x-python",
   "name": "python",
   "nbconvert_exporter": "python",
   "pygments_lexer": "ipython3",
   "version": "3.7.3"
  }
 },
 "nbformat": 4,
 "nbformat_minor": 2
}
