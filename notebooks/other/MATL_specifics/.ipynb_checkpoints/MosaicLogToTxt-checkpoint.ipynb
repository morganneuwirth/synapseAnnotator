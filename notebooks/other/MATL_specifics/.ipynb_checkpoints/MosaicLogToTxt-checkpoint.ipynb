{
 "cells": [
  {
   "cell_type": "code",
   "execution_count": 1,
   "metadata": {},
   "outputs": [],
   "source": [
    "import matplotlib.pyplot as plt\n",
    "import numpy as np\n",
    "import os"
   ]
  },
  {
   "cell_type": "code",
   "execution_count": 2,
   "metadata": {},
   "outputs": [],
   "source": [
    "# open mosaic file\n",
    "with open(r'C:\\Users\\CGuo\\Desktop\\MATL_Mosaic.log', 'r') as reader:\n",
    "    lines = reader.readlines()"
   ]
  },
  {
   "cell_type": "code",
   "execution_count": 83,
   "metadata": {},
   "outputs": [],
   "source": [
    "# convert to image coordinates\n",
    "with open(r'C:\\Users\\CGuo\\Desktop\\MATL_Mosaic.txt', 'w') as writer:\n",
    "    writer.write(\"# Define number of dimensions\\ndim = 3\\n# Define image coordinate (pixels)\\n\")\n",
    "    \n",
    "    for i in range(17,len(lines)-10, 9):\n",
    "        name = lines[i +7][23:36]\n",
    "        name = name.replace(\".oib\", \"_01.tif\")\n",
    "        xold=lines[i +4].split(\">\")\n",
    "        xnew = xold[1].split(\"<\")\n",
    "        x = xnew[0]\n",
    "        yold=lines[i +5].split(\">\")\n",
    "        ynew = yold[1].split(\"<\")\n",
    "        y = ynew[0]\n",
    "        x = int(x)\n",
    "        y = int(y)\n",
    "        x = 800 * x\n",
    "        y = 800 * y\n",
    "        x = str(x)\n",
    "        y = str(y)\n",
    "        writer.write(name + \"; ; (\" + x + \".00, \" + y + \".00, 0.00)\\n\")"
   ]
  }
 ],
 "metadata": {
  "kernelspec": {
   "display_name": "Python 3",
   "language": "python",
   "name": "python3"
  },
  "language_info": {
   "codemirror_mode": {
    "name": "ipython",
    "version": 3
   },
   "file_extension": ".py",
   "mimetype": "text/x-python",
   "name": "python",
   "nbconvert_exporter": "python",
   "pygments_lexer": "ipython3",
   "version": "3.7.3"
  }
 },
 "nbformat": 4,
 "nbformat_minor": 2
}
