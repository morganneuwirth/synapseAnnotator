{
 "cells": [
  {
   "cell_type": "code",
   "execution_count": 15,
   "metadata": {},
   "outputs": [],
   "source": [
    "import matplotlib\n",
    "import matplotlib.pyplot as plt\n",
    "import numpy as np\n",
    "import os\n",
    "from oiffile import imread\n",
    "from PIL import Image\n",
    "import random\n",
    "import glob\n",
    "import torch\n",
    "import sys\n",
    "import dognet\n",
    "import functions\n",
    "import skimage\n",
    "from skimage.transform import resize\n",
    "import tifffile as tiff\n",
    "import torch\n",
    "from tqdm import tnrange"
   ]
  },
  {
   "cell_type": "code",
   "execution_count": 16,
   "metadata": {},
   "outputs": [],
   "source": [
    "# load network\n",
    "netName = \"notebooks/vermisA306060\"\n",
    "net = torch.load(netName)\n",
    "# load and clip pre-computed medians of slices\n",
    "medianTotal= np.double(np.load(\"datasets/vermisA/medianTotal.npy\"))\n",
    "medianclipped0 = np.maximum(medianTotal[0],np.max(medianTotal[0])/3)\n",
    "medianclipped1 = np.maximum(medianTotal[1],np.max(medianTotal[1])/3)\n",
    "medianclipped2 = np.maximum(medianTotal[2],np.max(medianTotal[2])/3)"
   ]
  },
  {
   "cell_type": "code",
   "execution_count": 75,
   "metadata": {},
   "outputs": [
    {
     "data": {
      "application/vnd.jupyter.widget-view+json": {
       "model_id": "23ec29ef938b4a9fbde1d5538b4ea41d",
       "version_major": 2,
       "version_minor": 0
      },
      "text/plain": [
       "HBox(children=(IntProgress(value=0, max=1), HTML(value='')))"
      ]
     },
     "metadata": {},
     "output_type": "display_data"
    }
   ],
   "source": [
    "# generate predicted synapse maps for all images\n",
    "for i in tnrange(4,5):\n",
    "    if i<10:\n",
    "        n = '000%s' % (i)\n",
    "    elif i <100:\n",
    "        n = '00%s' % (i)\n",
    "    else:\n",
    "        n = '0%s' % (i)\n",
    "    # load image\n",
    "    fdir = r'E:\\pcp2cre_syptom_568_mglur1_1to200_647_1to250_vgat_1to200_488_1to250\\FV10__20190511_141336_vermisA/Track%s' % (n)\n",
    "   \n",
    "    im_name = 'Image%s_01.oib' % (n)\n",
    "    image = imread(os.path.join(fdir,im_name))\n",
    "    \n",
    "    predictedZImages = []\n",
    "    # evaluate each z-slice\n",
    "    for z_slice in range(0,15):\n",
    "        \n",
    "        # normalize, shrink, and cut the image\n",
    "        image_save = np.double(image[:,z_slice,:,:].transpose(2,1,0))  \n",
    "        image_save[:,:,0] = image_save[:,:,0]/(medianclipped0[z_slice]*30)\n",
    "        image_save[:,:,1] = image_save[:,:,1]/(medianclipped1[z_slice]*60)\n",
    "        image_save[:,:,2] = image_save[:,:,2]/(medianclipped2[z_slice]*60)\n",
    "        image_save = resize(image_save,(400,400), order=1, preserve_range=True)\n",
    "        \n",
    "        h=400\n",
    "        w=400\n",
    "        tol=30\n",
    "\n",
    "        UL=(image_save[0:int(h/2+tol),0:int(w/2+tol),:]).transpose(2,1,0)       \n",
    "        UR=(image_save[0:int(h/2+tol),int(w/2-tol):w,:]).transpose(2,1,0)\n",
    "        LL=(image_save[int(h/2-tol):h,0:int(w/2+tol),:]).transpose(2,1,0)\n",
    "        LR=(image_save[int(h/2-tol):h,int(w/2-tol):w,:]).transpose(2,1,0)\n",
    "        \n",
    "        smallPictures=[UL,UR,LL,LR]\n",
    "        predictedImages=[]\n",
    "        \n",
    "        # generate prediction maps\n",
    "        for j in range(0,4):\n",
    "            inimg = np.transpose(resize(np.transpose(smallPictures[j],(2,1,0)),(230,230)),(2,0,1))\n",
    "            outimg = functions.inference(net.to(torch.device(\"cuda\")),inimg,get_inter=False,device=torch.device(\"cuda\"))\n",
    " \n",
    "            newImg = resize(outimg,(2,460,460), order=1, preserve_range=True)\n",
    "            pMap = newImg[:1, :, :]\n",
    "            predictedImages.append(pMap)\n",
    "        \n",
    "        #(x1,y1) as the top-left vertex and (x2,y2) as the bottom-right vertex, im[y1:y2, x1:x2] --delete\n",
    "        Ntol=60\n",
    "        \n",
    "        # take mean image of the overlaps and remove edges of overlapping images\n",
    "        top = (predictedImages[0][:, 0:h+Ntol, w-Ntol:w+Ntol] + predictedImages[1][:, 0:h+Ntol, 0:2*Ntol])/2\n",
    "        left = (predictedImages[0][:, h-Ntol:h+Ntol, 0:w+Ntol] + predictedImages[2][:, 0:2*Ntol, 0:w+Ntol])/2\n",
    "        bottom = (predictedImages[2][:, 0:h+Ntol, w-Ntol:w+Ntol] + predictedImages[3][:, 0:h+Ntol, 0:2*Ntol])/2\n",
    "        right = (predictedImages[1][:, h-Ntol:h+Ntol, 0:w+Ntol] + predictedImages[3][:, 0:2*Ntol, 0:w+Ntol])/2\n",
    "        middle = (top[:, h-Ntol:h+Ntol, 0:2*Ntol] + bottom[:, 0:2*Ntol, 0:2*Ntol] + right[:, 0:2*Ntol, 0:2*Ntol] + left[:, 0:2*Ntol, w-Ntol:w+Ntol])/4\n",
    "        \n",
    "        #taking min\n",
    "        #top = np.minimum(predictedImages[0][:, 0:h+Ntol, w-Ntol:w+Ntol], predictedImages[1][:, 0:h+Ntol, 0:2*Ntol])\n",
    "        #left = np.minimum(predictedImages[0][:, h-Ntol:h+Ntol, 0:w+Ntol], predictedImages[2][:, 0:2*Ntol, 0:w+Ntol])\n",
    "        #bottom = np.minimum(predictedImages[2][:, 0:h+Ntol, w-Ntol:w+Ntol], predictedImages[3][:, 0:h+Ntol, 0:2*Ntol])\n",
    "        #right = np.minimum(predictedImages[1][:, h-Ntol:h+Ntol, 0:w+Ntol], predictedImages[3][:, 0:2*Ntol, 0:w+Ntol])\n",
    "        #middle1 = np.minimum(top[:, h-Ntol:h+Ntol, 0:2*Ntol], bottom[:, 0:2*Ntol, 0:2*Ntol])\n",
    "        #middle2 = np.minimum(right[:, 0:2*Ntol, 0:2*Ntol], left[:, 0:2*Ntol, w-Ntol:w+Ntol])\n",
    "        #middle = np.minimum(middle1, middle2)\n",
    "              \n",
    "        topLeft = predictedImages[0][:, 0:h-Ntol, 0:w-Ntol]\n",
    "        topRight = predictedImages[1][:, 0:h-Ntol, 2*Ntol:]\n",
    "        bottomLeft = predictedImages[2][:, 2*Ntol:, 0:w-Ntol]\n",
    "        bottomRight = predictedImages[3][:, 2*Ntol:, 2*Ntol:]\n",
    "        \n",
    "        #stitch four prediction maps\n",
    "        finalImage = np.zeros((1,800,800))\n",
    "        finalImage[:, :h-Ntol, :w-Ntol] = topLeft\n",
    "        finalImage[:, :h+Ntol, w-Ntol:w+Ntol] = top\n",
    "        finalImage[:, :h-Ntol, w+Ntol:] = topRight\n",
    "        finalImage[:, h-Ntol:h+Ntol, :w+Ntol] = left\n",
    "        finalImage[:, h-Ntol:h+Ntol, w-Ntol:] = right\n",
    "        finalImage[:, h+Ntol:, :w-Ntol] = bottomLeft\n",
    "        finalImage[:, h-Ntol:, w-Ntol:w+Ntol] = bottom\n",
    "        finalImage[:, h+Ntol:, w+Ntol:] = bottomRight\n",
    "        finalImage[:, h-Ntol:h+Ntol, w-Ntol:w+Ntol] = middle \n",
    "        finalImage = finalImage/np.max(finalImage)\n",
    "        finalImage = (80*finalImage).astype(np.uint16)        \n",
    "        finalImage = np.flip(np.flip(finalImage.transpose(0,2,1)))\n",
    "        \n",
    "        # save all final prediction images in one z-stack\n",
    "        predictedZImages.append(finalImage)\n",
    "    \n",
    "    stack = np.stack(predictedZImages, axis=1)\n",
    "    # append prediction maps to image\n",
    "    x = np.vstack((image, stack))\n",
    "    x = x.astype(np.uint16)\n",
    "        \n",
    "    #fileName = r'C:\\Users\\CGuo\\Desktop\\vermisA/%s.tif' % (im_name[:12])\n",
    "    fileName = r'C:\\Users\\CGuo\\Desktop\\img.tif'\n",
    "    # save as a tiff file\n",
    "    #tiff.imsave(fileName, x)"
   ]
  },
  {
   "cell_type": "code",
   "execution_count": 76,
   "metadata": {},
   "outputs": [],
   "source": [
    "tiff.imsave(fileName, x)"
   ]
  },
  {
   "cell_type": "code",
   "execution_count": 46,
   "metadata": {},
   "outputs": [
    {
     "data": {
      "image/png": "[encoded data removed]",
      "text/plain": [
       "<Figure size 432x288 with 1 Axes>"
      ]
     },
     "metadata": {
      "needs_background": "light"
     },
     "output_type": "display_data"
    }
   ],
   "source": [
    "plt.hist(x[0][5])\n",
    "plt.show()"
   ]
  },
  {
   "cell_type": "code",
   "execution_count": 73,
   "metadata": {},
   "outputs": [
    {
     "data": {
      "image/png": "[encoded data removed]",
      "text/plain": [
       "<Figure size 432x288 with 1 Axes>"
      ]
     },
     "metadata": {
      "needs_background": "light"
     },
     "output_type": "display_data"
    }
   ],
   "source": [
    "plt.hist(x[3][5])\n",
    "plt.show()"
   ]
  },
  {
   "cell_type": "code",
   "execution_count": 74,
   "metadata": {},
   "outputs": [
    {
     "data": {
      "text/plain": [
       "<matplotlib.image.AxesImage at 0x257bd19ee80>"
      ]
     },
     "execution_count": 74,
     "metadata": {},
     "output_type": "execute_result"
    },
    {
     "data": {
      "image/png": "[encoded data removed]",
      "text/plain": [
       "<Figure size 432x288 with 1 Axes>"
      ]
     },
     "metadata": {
      "needs_background": "light"
     },
     "output_type": "display_data"
    }
   ],
   "source": [
    "plt.imshow(x[3][5])"
   ]
  },
  {
   "cell_type": "code",
   "execution_count": null,
   "metadata": {},
   "outputs": [],
   "source": []
  },
  {
   "cell_type": "code",
   "execution_count": null,
   "metadata": {},
   "outputs": [],
   "source": []
  },
  {
   "cell_type": "code",
   "execution_count": 39,
   "metadata": {},
   "outputs": [
    {
     "data": {
      "image/png": "[encoded data removed]",
      "text/plain": [
       "<Figure size 432x288 with 1 Axes>"
      ]
     },
     "metadata": {
      "needs_background": "light"
     },
     "output_type": "display_data"
    }
   ],
   "source": [
    "plt.hist(x[0][5])\n",
    "plt.show()"
   ]
  },
  {
   "cell_type": "code",
   "execution_count": 40,
   "metadata": {},
   "outputs": [
    {
     "data": {
      "image/png": "[encoded data removed]",
      "text/plain": [
       "<Figure size 432x288 with 1 Axes>"
      ]
     },
     "metadata": {
      "needs_background": "light"
     },
     "output_type": "display_data"
    }
   ],
   "source": [
    "plt.hist(x[3][5])\n",
    "plt.show()"
   ]
  },
  {
   "cell_type": "code",
   "execution_count": null,
   "metadata": {},
   "outputs": [],
   "source": []
  }
 ],
 "metadata": {
  "kernelspec": {
   "display_name": "Python 3",
   "language": "python",
   "name": "python3"
  },
  "language_info": {
   "codemirror_mode": {
    "name": "ipython",
    "version": 3
   },
   "file_extension": ".py",
   "mimetype": "text/x-python",
   "name": "python",
   "nbconvert_exporter": "python",
   "pygments_lexer": "ipython3",
   "version": "3.7.3"
  }
 },
 "nbformat": 4,
 "nbformat_minor": 2
}
