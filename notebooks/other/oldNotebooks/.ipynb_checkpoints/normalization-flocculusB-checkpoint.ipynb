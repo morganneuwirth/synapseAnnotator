{
 "cells": [
  {
   "cell_type": "code",
   "execution_count": 13,
   "metadata": {},
   "outputs": [],
   "source": [
    "import matplotlib\n",
    "import matplotlib.pyplot as plt\n",
    "import numpy as np\n",
    "import os\n",
    "from oiffile import imread\n",
    "from PIL import Image\n",
    "import random\n",
    "import skimage\n",
    "from skimage.transform import resize\n",
    "import matplotlib\n",
    "import glob\n",
    "from scipy import stats\n",
    "import time\n",
    "from tqdm import tnrange"
   ]
  },
  {
   "cell_type": "code",
   "execution_count": 14,
   "metadata": {},
   "outputs": [],
   "source": [
    "medianMatrix = np.zeros((3,20,222))\n",
    "stdDevMatrix = np.zeros((3,20,222))\n",
    "medianAbsDevMatrix = np.zeros((3,20,222))\n",
    "meanMatrix = np.zeros((3,20,222))\n",
    "maxMatrix = np.zeros((3,20,222))\n",
    "minMatrix = np.zeros((3,20,222))"
   ]
  },
  {
   "cell_type": "code",
   "execution_count": 15,
   "metadata": {},
   "outputs": [
    {
     "data": {
      "application/vnd.jupyter.widget-view+json": {
       "model_id": "4cb0a62d315d4d65bdca78168d896e9b",
       "version_major": 2,
       "version_minor": 0
      },
      "text/plain": [
       "HBox(children=(IntProgress(value=0, max=221), HTML(value='')))"
      ]
     },
     "metadata": {},
     "output_type": "display_data"
    }
   ],
   "source": [
    "for i in tnrange(1,222):\n",
    "    if i<10:\n",
    "        n = '000%s' % (i)\n",
    "    elif i <100:\n",
    "        n = '00%s' % (i)\n",
    "    else:\n",
    "        n = '0%s' % (i)\n",
    "                \n",
    "    p = 'E:\\pcp2cre_syptom_568_mglur1_1to200_647_1to250_vgat_1to200_488_1to250\\FV10__20190509_202916_flocculusB/Track%s' % (n)\n",
    "    fdir = glob.glob(p)\n",
    "    name = 'Image%s_01.oib' % (n)\n",
    "    image = imread(os.path.join(fdir[0],name))\n",
    "        \n",
    "    for j in range(0,20):\n",
    "        imslice = image[:,j,:,:].transpose(1,2,0)\n",
    "        \n",
    "        for k in range(0,3):\n",
    "            medianMatrix[k][j][i-1] = np.median(imslice[:,:,k])\n",
    "            stdDevMatrix[k][j][i-1] = np.std(imslice[:,:,k])\n",
    "            medianAbsDevMatrix[k][j][i-1] = stats.median_absolute_deviation(imslice[:,:,k], axis=None)\n",
    "            meanMatrix[k][j][i-1] = np.mean(imslice[:,:,k])\n",
    "            maxMatrix[k][j][i-1] = np.amax(imslice[:,:,k])\n",
    "            minMatrix[k][j][i-1] = np.amin(imslice[:,:,k])    "
   ]
  },
  {
   "cell_type": "code",
   "execution_count": 17,
   "metadata": {},
   "outputs": [],
   "source": [
    "np.save(\"../../datasets/flocculusB/matrices/medianMatrix.npy\", medianMatrix)\n",
    "np.save(\"../../datasets/flocculusB/matrices/stdDevMatrix.npy\", stdDevMatrix)\n",
    "np.save(\"../../datasets/flocculusB/matrices/medianAbsDevMatrix.npy\", medianAbsDevMatrix)\n",
    "np.save(\"../../datasets/flocculusB/matrices/meanMatrix.npy\", meanMatrix)\n",
    "np.save(\"../../datasets/flocculusB/matrices/maxMatrix.npy\", maxMatrix)\n",
    "np.save(\"../../datasets/flocculusB/matrices/minMatrix.npy\", minMatrix)"
   ]
  },
  {
   "cell_type": "code",
   "execution_count": 18,
   "metadata": {},
   "outputs": [],
   "source": [
    "medianTotal = np.zeros((3,20))\n",
    "stdDevTotal = np.zeros((3,20))\n",
    "medianAbsDevTotal = np.zeros((3,20))\n",
    "meanTotal = np.zeros((3,20))\n",
    "maxTotal = np.zeros((3,20))\n",
    "minTotal = np.zeros((3,20))\n",
    "\n",
    "for d in range(0,20):\n",
    "    for h in range(0,3):\n",
    "        medianTotal[h][d] = np.median(medianMatrix[h][d])\n",
    "        stdDevTotal[h][d] = np.mean(stdDevMatrix[h][d])\n",
    "        medianAbsDevTotal[h][d] = np.mean(medianAbsDevMatrix[h][d])\n",
    "        meanTotal[h][d] = np.mean(meanMatrix[h][d])\n",
    "        maxTotal[h][d] = np.median(maxMatrix[h][d])\n",
    "        minTotal[h][d] = np.median(minMatrix[h][d])"
   ]
  },
  {
   "cell_type": "code",
   "execution_count": 19,
   "metadata": {},
   "outputs": [],
   "source": [
    "np.save(\"../../datasets/flocculusB/medianTotal.npy\", medianTotal)\n",
    "np.save(\"../../datasets/flocculusB/meanTotal.npy\", meanTotal)"
   ]
  }
 ],
 "metadata": {
  "kernelspec": {
   "display_name": "Python 3",
   "language": "python",
   "name": "python3"
  },
  "language_info": {
   "codemirror_mode": {
    "name": "ipython",
    "version": 3
   },
   "file_extension": ".py",
   "mimetype": "text/x-python",
   "name": "python",
   "nbconvert_exporter": "python",
   "pygments_lexer": "ipython3",
   "version": "3.7.3"
  }
 },
 "nbformat": 4,
 "nbformat_minor": 2
}
