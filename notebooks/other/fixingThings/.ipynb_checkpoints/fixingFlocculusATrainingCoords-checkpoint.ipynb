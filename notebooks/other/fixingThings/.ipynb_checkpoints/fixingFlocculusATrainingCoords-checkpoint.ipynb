{
 "cells": [
  {
   "cell_type": "code",
   "execution_count": 2,
   "metadata": {},
   "outputs": [],
   "source": [
    "import matplotlib\n",
    "import matplotlib.pyplot as plt\n",
    "import numpy as np\n",
    "import os\n",
    "from oiffile import imread\n",
    "from PIL import Image\n",
    "import random\n",
    "import glob\n",
    "import torch\n",
    "import sys\n",
    "import skimage\n",
    "from skimage.transform import resize\n",
    "import tifffile as tiff\n",
    "import torch\n",
    "from tqdm import tnrange"
   ]
  },
  {
   "cell_type": "code",
   "execution_count": 3,
   "metadata": {},
   "outputs": [],
   "source": [
    "with open(\"../../datasets/flocculusA/imagesUsed.txt\") as fin:\n",
    "    lines = fin.readlines()\n",
    "    lines.sort()\n",
    "\n",
    "for l in lines:\n",
    "    name = str(l[:12])\n",
    "    \n",
    "    rawStr=\"../../datasets/flocculusA/rawCoordinates/%s_rawCoords.npy\" % (l)\n",
    "    rawStr=rawStr[:53]\n",
    "    rawStr=\"%s_rawCoords.npy\" %(rawStr)\n",
    "    with open(rawStr) as fin:\n",
    "        cs = fin.readlines()\n",
    "        \n",
    "    coordins = [[] for j in range(0,len(cs))]\n",
    "\n",
    "    for i in range(0,len(cs)):\n",
    "        xy = cs[i].split(\" \")\n",
    "        xy[1]=xy[1][:24]\n",
    "        xy[0]=float(xy[0])\n",
    "        xy[1]=float(xy[1])\n",
    "        coordins[i]=np.array(xy)\n",
    "    \n",
    "    b = [[] for j in range(0,4)]\n",
    "    \n",
    "    for j in coordins:\n",
    "        if j[0] < 460 and j[1] < 460:\n",
    "            point = np.copy(j)\n",
    "            (b[0]).append(.5*np.array(point))\n",
    "\n",
    "        if j[0] > 340 and j[1] < 460:\n",
    "            point = np.copy(j)\n",
    "            point[0]=point[0]-340\n",
    "            (b[1]).append(.5*np.array(point))\n",
    "\n",
    "        if j[0] < 460 and j[1] > 340:\n",
    "            point = np.copy(j)\n",
    "            point[1]=point[1]-340\n",
    "            (b[2]).append(.5*np.array(point))\n",
    "\n",
    "        if j[0] > 340 and j[1] > 340:\n",
    "            point = np.copy(j)\n",
    "            point[0]=point[0]-340\n",
    "            point[1]=point[1]-340\n",
    "            (b[3]).append(.5*np.array(point))\n",
    "    \n",
    "    smallPicturesNames=['UL','UR','LL','LR']\n",
    "    \n",
    "    for k in range(0,4):\n",
    "        coordsStr=\"../../datasets/flocculusA/NEWESTtrainingCoordinates/%s_%s_coords\" % (name,smallPicturesNames[k])\n",
    "        np.savetxt(coordsStr, b[k], delimiter=',')"
   ]
  },
  {
   "cell_type": "code",
   "execution_count": 45,
   "metadata": {},
   "outputs": [
    {
     "data": {
      "text/plain": [
       "'Track0030_10'"
      ]
     },
     "execution_count": 45,
     "metadata": {},
     "output_type": "execute_result"
    }
   ],
   "source": [
    "str(l[:12])"
   ]
  },
  {
   "cell_type": "code",
   "execution_count": null,
   "metadata": {},
   "outputs": [],
   "source": []
  }
 ],
 "metadata": {
  "kernelspec": {
   "display_name": "Python 3",
   "language": "python",
   "name": "python3"
  },
  "language_info": {
   "codemirror_mode": {
    "name": "ipython",
    "version": 3
   },
   "file_extension": ".py",
   "mimetype": "text/x-python",
   "name": "python",
   "nbconvert_exporter": "python",
   "pygments_lexer": "ipython3",
   "version": "3.7.3"
  }
 },
 "nbformat": 4,
 "nbformat_minor": 2
}
