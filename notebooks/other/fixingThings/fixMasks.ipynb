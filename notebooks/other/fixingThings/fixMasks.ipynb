{
 "cells": [
  {
   "cell_type": "code",
   "execution_count": 4,
   "metadata": {},
   "outputs": [],
   "source": [
    "import numpy as np\n",
    "from matplotlib.patches import Ellipse\n",
    "from skimage.feature import peak_local_max\n",
    "from skimage.measure import label, regionprops\n",
    "from sklearn import mixture\n",
    "import sys\n",
    "from skimage.draw import circle\n",
    "import dognet\n",
    "\n",
    "\n",
    "import matplotlib\n",
    "import matplotlib.pyplot as plt\n",
    "import os\n",
    "from oiffile import imread\n",
    "from PIL import Image\n",
    "import random\n",
    "import skimage\n",
    "from skimage.transform import resize\n",
    "import glob\n",
    "import torch\n",
    "import sys\n",
    "sys.path.insert(0, '..')\n",
    "import scipy.io as sio\n",
    "import matplotlib.patches as patches\n",
    "from matplotlib_scalebar.scalebar import ScaleBar\n",
    "from skimage.transform import rescale\n",
    "from sklearn.metrics import roc_curve, auc\n",
    "\n"
   ]
  },
  {
   "cell_type": "code",
   "execution_count": 5,
   "metadata": {},
   "outputs": [],
   "source": [
    "from skimage.draw import circle\n",
    "def make_labels(img,ys,xs,radius=4):\n",
    "    labels = np.zeros(img.shape[1:])\n",
    "    for xv,yv in zip(xs,ys):\n",
    "        rr,cc = circle(xv,yv,radius,labels.shape)\n",
    "        \n",
    "        labels[rr,cc]=1\n",
    "    return labels\n",
    "\n",
    "#Train set\n",
    "def make_training_set(labels,indexes):\n",
    "    train_images = []\n",
    "    train_labels = []\n",
    "    for i in indexes:\n",
    "        if len(labels[i])==0:\n",
    "            d = np.zeros_like(collman[0,0,:,:])\n",
    "        else:\n",
    "            d = make_labels(collman[:,0],np.array(labels[i])[:,0],np.array(labels[i])[:,1])\n",
    "        train_images.append(collman[:,i])\n",
    "        train_labels.append(d)\n",
    "    return train_images,train_labels"
   ]
  },
  {
   "cell_type": "code",
   "execution_count": null,
   "metadata": {},
   "outputs": [],
   "source": [
    "Track0011_01_rawCoords.npy"
   ]
  },
  {
   "cell_type": "code",
   "execution_count": 6,
   "metadata": {},
   "outputs": [
    {
     "ename": "FileNotFoundError",
     "evalue": "[Errno 2] No such file or directory: '../datasets/flocculusA/imagesUsed.txt'",
     "output_type": "error",
     "traceback": [
      "\u001b[0;31m---------------------------------------------------------------------------\u001b[0m",
      "\u001b[0;31mFileNotFoundError\u001b[0m                         Traceback (most recent call last)",
      "\u001b[0;32m<ipython-input-6-cf339c075c11>\u001b[0m in \u001b[0;36m<module>\u001b[0;34m\u001b[0m\n\u001b[0;32m----> 1\u001b[0;31m \u001b[0;32mwith\u001b[0m \u001b[0mopen\u001b[0m\u001b[0;34m(\u001b[0m\u001b[0;34m\"../datasets/flocculusA/imagesUsed.txt\"\u001b[0m\u001b[0;34m)\u001b[0m \u001b[0;32mas\u001b[0m \u001b[0mfin\u001b[0m\u001b[0;34m:\u001b[0m\u001b[0;34m\u001b[0m\u001b[0;34m\u001b[0m\u001b[0m\n\u001b[0m\u001b[1;32m      2\u001b[0m     \u001b[0mlines\u001b[0m \u001b[0;34m=\u001b[0m \u001b[0mfin\u001b[0m\u001b[0;34m.\u001b[0m\u001b[0mreadlines\u001b[0m\u001b[0;34m(\u001b[0m\u001b[0;34m)\u001b[0m\u001b[0;34m\u001b[0m\u001b[0;34m\u001b[0m\u001b[0m\n",
      "\u001b[0;31mFileNotFoundError\u001b[0m: [Errno 2] No such file or directory: '../datasets/flocculusA/imagesUsed.txt'"
     ]
    }
   ],
   "source": [
    "lines = []\n",
    "with open(\"../datasets/flocculusA/imagesUsed.txt\") as fin:\n",
    "    lines = fin.readlines()"
   ]
  },
  {
   "cell_type": "code",
   "execution_count": null,
   "metadata": {},
   "outputs": [],
   "source": []
  },
  {
   "cell_type": "code",
   "execution_count": null,
   "metadata": {},
   "outputs": [],
   "source": []
  }
 ],
 "metadata": {
  "kernelspec": {
   "display_name": "Python 3",
   "language": "python",
   "name": "python3"
  },
  "language_info": {
   "codemirror_mode": {
    "name": "ipython",
    "version": 3
   },
   "file_extension": ".py",
   "mimetype": "text/x-python",
   "name": "python",
   "nbconvert_exporter": "python",
   "pygments_lexer": "ipython3",
   "version": "3.6.8"
  }
 },
 "nbformat": 4,
 "nbformat_minor": 2
}
