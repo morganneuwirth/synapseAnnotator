{
 "cells": [
  {
   "cell_type": "code",
   "execution_count": 2,
   "metadata": {},
   "outputs": [],
   "source": [
    "import matplotlib\n",
    "import matplotlib.pyplot as plt\n",
    "import numpy as np\n",
    "import os\n",
    "from oiffile import imread\n",
    "from PIL import Image\n",
    "import random\n",
    "import glob\n",
    "import torch\n",
    "import sys\n",
    "import dognet\n",
    "#import functions\n",
    "import skimage\n",
    "from skimage.transform import resize"
   ]
  },
  {
   "cell_type": "code",
   "execution_count": null,
   "metadata": {},
   "outputs": [],
   "source": []
  },
  {
   "cell_type": "code",
   "execution_count": null,
   "metadata": {},
   "outputs": [],
   "source": []
  },
  {
   "cell_type": "code",
   "execution_count": null,
   "metadata": {},
   "outputs": [],
   "source": []
  },
  {
   "cell_type": "code",
   "execution_count": null,
   "metadata": {},
   "outputs": [],
   "source": []
  },
  {
   "cell_type": "code",
   "execution_count": null,
   "metadata": {},
   "outputs": [],
   "source": [
    "# load network\n",
    "device = torch.device(\"cpu\")\n",
    "net = dognet.SimpleAnisotropic(3,15,36).to(device)\n",
    "net.weights_init()\n",
    "netName = \"net_bce_1e-%s\" %(i)\n",
    "net = torch.load(netName)"
   ]
  },
  {
   "cell_type": "code",
   "execution_count": null,
   "metadata": {},
   "outputs": [],
   "source": [
    "for i in range(0,len(BRAIN)):\n",
    "\n",
    "    if i<10:\n",
    "        n = '000%s' % (i)\n",
    "    elif i <100:\n",
    "        n = '00%s' % (i)\n",
    "    else:\n",
    "        n = '0%s' % (i)\n",
    "\n",
    "    fdir = '/Volumes/BACKUP/pcp2cre_syptom_568_mglur1_1to200_647_1to250_vgat_1to200_488_1to250/FV10__20190507_224650_flocculusA/Track%s' % (n)\n",
    "\n",
    "    im_name = 'Image%s_01.oib' % (n)\n",
    "    image = imread(os.path.join(fdir,im_name))\n",
    "    \n",
    "    for z_slice in range(0,16):\n",
    "    \n",
    "        # load pre-computed medians of slices\n",
    "        medianTotal= np.double(np.load(\"../datasets/flocculusA/medianTotal.npy\"))\n",
    "        \n",
    "        # normalize, shrink, and cut the image\n",
    "        image_save = np.double(image[:,z_slice,:,:].transpose(1,2,0))\n",
    "        image_save[:,:,0] = image_save[:,:,0]/medianTotal[0][z_slice]\n",
    "        image_save[:,:,1] = image_save[:,:,1]/medianTotal[1][z_slice]\n",
    "        image_save[:,:,2] = 0\n",
    "        image_save = resize(image_save,(400,400), order=1, preserve_range=True)\n",
    "\n",
    "        h=400\n",
    "        w=400\n",
    "        tol=30\n",
    "\n",
    "        UL=(image_save[0:int(h/2+tol),0:int(w/2+tol),:])       \n",
    "        UR=(image_save[0:int(h/2+tol),int(w/2-tol):w,:])\n",
    "        LL=(image_save[int(h/2-tol):h,0:int(w/2+tol),:])\n",
    "        LR=(image_save[int(h/2-tol):h,int(w/2-tol):w,:])\n",
    "\n",
    "        smallPictures=[UL,UR,LL,LR]\n",
    "        \n",
    "        predictedImages=[]\n",
    "        \n",
    "        # generate prediction maps\n",
    "        for j range(0,4):\n",
    "            imgResized  = resize(smallPictures[j],(115,115), order=1, preserve_range=True)\n",
    "            img = functions.inference(net,imgResized)\n",
    "            pMap = resize(img,(460,460), order=1, preserve_range=True)\n",
    "            predictedImages.append(pMap)\n",
    "        \n",
    "        #(x1,y1) as the top-left vertex and (x2,y2) as the bottom-right vertex, im[y1:y2, x1:x2]\n",
    "        # take mean image of the overlaps and remove edges of overlapping images\n",
    "        top = (predictedImages[0][0:h+2*tol, w:w+2*tol, :] + predictedImages[1][0:h+2*tol, 0:2*tol, :])/2\n",
    "        left = (predictedImages[0][h:h+2*tol, 0:w+2*tol, :] + predictedImages[2][0:2*tol, 0:w+2*tol])/2\n",
    "        bottom = (predictedImages[2][0:h+2*tol, w:w+2*tol, :] + predictedImages[3][0:h+2*tol, 0:2*tol, :])/2\n",
    "        right = (predictedImages[1][h:h+2*tol, 0:w+2*tol, :] + predictedImages[3][0:2*tol, 0:w+2*tol])/2\n",
    "        middle = (top[h:h+2*tol, 0:2*tol, :] + bottom[0:2*tol, 0:2*tol, :] + right[0:2*tol, 0:2*tol, :] + left[0:2*tol, w:w+2*tol, :]/4)\n",
    "        \n",
    "        #middle = (predictedImages[0][h:h+2*tol, w:w+2*tol, :] + predictedImages[1][h:h+2*tol, 0:2*tol, :] + predictedImages[2][0:2*tol, w:w+2*tol, :] + predictedImages[3][0:2*tol, 0:2*tol, :])/4\n",
    "        \n",
    "        topLeft = predictedImages[0][0:h, 0:w, :]\n",
    "        topRight = predictedImages[1][0:h, 2*tol:, :]\n",
    "        bottomLeft = predictedImages[2][2*tol:, 0:w, :]\n",
    "        bottomRight = predictedImages[3][2*tol:, 2*tol:, :]\n",
    "        \n",
    "        #stitch together 4 prediction maps\n",
    "        fullImage = Image.new('RGB', (800, 800))\n",
    "        fullImage.paste(im=predictedImages[0], box=(0,0)\n",
    "        \n",
    "            "
   ]
  },
  {
   "cell_type": "code",
   "execution_count": 6,
   "metadata": {},
   "outputs": [],
   "source": [
    "x=np.zeros((460,460))\n",
    "y=np.zeros((460,460))\n",
    "z=np.zeros((460,460))\n",
    "u=np.zeros((460,460))\n",
    "predictedImages=[x,y,z,u]\n",
    "\n",
    "h=400\n",
    "w=400\n",
    "tol=30\n",
    "\n",
    "top = (predictedImages[0][0:h+2*tol, w:w+2*tol] + predictedImages[1][0:h+2*tol, 0:2*tol])/2\n",
    "left = (predictedImages[0][h:h+2*tol, 0:w+2*tol] + predictedImages[2][0:2*tol, 0:w+2*tol])/2\n",
    "bottom = (predictedImages[2][0:h+2*tol, w:w+2*tol] + predictedImages[3][0:h+2*tol, 0:2*tol])/2\n",
    "right = (predictedImages[1][h:h+2*tol, 0:w+2*tol] + predictedImages[3][0:2*tol, 0:w+2*tol])/2\n",
    "middle = (top[h:h+2*tol, 0:2*tol,] + bottom[0:2*tol, 0:2*tol] + right[0:2*tol, 0:2*tol] + left[0:2*tol, w:w+2*tol]/4)"
   ]
  },
  {
   "cell_type": "code",
   "execution_count": null,
   "metadata": {},
   "outputs": [],
   "source": []
  }
 ],
 "metadata": {
  "kernelspec": {
   "display_name": "Python 3",
   "language": "python",
   "name": "python3"
  },
  "language_info": {
   "codemirror_mode": {
    "name": "ipython",
    "version": 3
   },
   "file_extension": ".py",
   "mimetype": "text/x-python",
   "name": "python",
   "nbconvert_exporter": "python",
   "pygments_lexer": "ipython3",
   "version": "3.6.8"
  }
 },
 "nbformat": 4,
 "nbformat_minor": 2
}
