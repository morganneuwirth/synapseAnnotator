{
 "cells": [
  {
   "cell_type": "code",
   "execution_count": 1,
   "metadata": {},
   "outputs": [],
   "source": [
    "import matplotlib\n",
    "import matplotlib.pyplot as plt\n",
    "import numpy as np\n",
    "import os\n",
    "from oiffile import imread\n",
    "from PIL import Image\n",
    "import random\n",
    "import skimage\n",
    "from skimage.transform import resize\n",
    "import matplotlib\n",
    "import glob\n",
    "import torch\n",
    "import sys\n",
    "sys.path.insert(0, '..')\n",
    "import scipy.io as sio\n",
    "import matplotlib.patches as patches\n",
    "from skimage.measure import label,regionprops\n",
    "from matplotlib_scalebar.scalebar import ScaleBar\n",
    "from skimage.transform import rescale\n",
    "import dognet\n",
    "import functions\n",
    "from sklearn.metrics import roc_curve, auc\n",
    "import os, os.path\n",
    "%matplotlib inline\n",
    "from skimage.draw import circle\n",
    "from dognet.unet import *"
   ]
  },
  {
   "cell_type": "code",
   "execution_count": 2,
   "metadata": {},
   "outputs": [],
   "source": [
    "#get training masks\n",
    "path1 = glob.glob(\"../datasets/flocculusA/newTrainingMasks/*.npy\")\n",
    "trainingMasks = functions.get_trainingMasks(path1)\n",
    "#get and scale training images\n",
    "path2 = glob.glob(\"../datasets/flocculusA/trainingImages3/*.npy\")\n",
    "trainingImages,collman = functions.get_trainingImages(path2,20,25)"
   ]
  },
  {
   "cell_type": "code",
   "execution_count": 3,
   "metadata": {},
   "outputs": [
    {
     "data": {
      "text/plain": [
       "272"
      ]
     },
     "execution_count": 3,
     "metadata": {},
     "output_type": "execute_result"
    }
   ],
   "source": [
    "len(trainingImages)"
   ]
  },
  {
   "cell_type": "code",
   "execution_count": 4,
   "metadata": {},
   "outputs": [],
   "source": [
    "#imagestraining=[0,1,2,3,4,5,7,8,9,10,12,13,14,15,17,19,20,21,22,24,25,27,28,29,31,32,34,36,37,39,40,41,43,44,45,46,47,48,50,51,52,53,55,56,58,60,61,62,63,64,65,67,68,70,71,72,74,76,77,78,80,81,82,83,84,85,87,88,89,90,92,93,95,96,98,100,101,103,104,105,106,108,109,110,112,113,114,116,118,119]\n",
    "#imagestesting=[6,11,16,18,23,26,30,33,35,38,42,49,54,57,59,66,69,73,75,79,86,91,94,97,99,102,107,111,115,117]\n",
    "rndsplit = np.random.permutation(len(trainingImages))\n",
    "numTest = int(len(trainingImages)/4)\n",
    "numTrain = int(len(trainingImages)-numTest)\n",
    "imagestraining = rndsplit[:numTrain]\n",
    "imagestesting = rndsplit[numTrain:]"
   ]
  },
  {
   "cell_type": "code",
   "execution_count": 5,
   "metadata": {},
   "outputs": [
    {
     "name": "stdout",
     "output_type": "stream",
     "text": [
      "204\n",
      "68\n"
     ]
    }
   ],
   "source": [
    "print(numTrain)\n",
    "print(numTest)"
   ]
  },
  {
   "cell_type": "code",
   "execution_count": 6,
   "metadata": {},
   "outputs": [],
   "source": [
    "newTrainingImages=[]\n",
    "newTrainingMasks=[]\n",
    "newTestingImages=[]\n",
    "newTestingMasks=[]\n",
    "\n",
    "for i in imagestraining:\n",
    "    newTrainingImages.append(trainingImages[i])\n",
    "    newTrainingMasks.append(trainingMasks[i])\n",
    "for j in imagestesting:  \n",
    "    newTestingImages.append(trainingImages[j])\n",
    "    newTestingMasks.append(trainingMasks[j])"
   ]
  },
  {
   "cell_type": "code",
   "execution_count": null,
   "metadata": {},
   "outputs": [
    {
     "data": {
      "application/vnd.jupyter.widget-view+json": {
       "model_id": "d27a08155a484996b32ac3ee764dcb2e",
       "version_major": 2,
       "version_minor": 0
      },
      "text/plain": [
       "HBox(children=(IntProgress(value=0, max=5), HTML(value='')))"
      ]
     },
     "metadata": {},
     "output_type": "display_data"
    }
   ],
   "source": [
    "lossFn = \"focal\"\n",
    "alpha = 0.5\n",
    "gamma = 5\n",
    "lrs = 1e-2\n",
    "batchSize = 2\n",
    "nEpoch = 5\n",
    "\n",
    "device = torch.device('cpu')\n",
    "net = UNet(3,1).to(device)\n",
    "net,train_errors,test_errors=dognet.train_routine(net,dognet.create_generator(newTrainingImages,newTrainingMasks,device = device,batch_size = batchSize),dognet.create_test_generator(newTestingImages,newTestingMasks,device = device),n_train_samples = numTrain, n_test_samples=numTest,n_epoch=nEpoch,batch_size=batchSize,loss=lossFn,lr=lrs,alpha = alpha,gamma = gamma,device = device)"
   ]
  },
  {
   "cell_type": "code",
   "execution_count": null,
   "metadata": {},
   "outputs": [],
   "source": [
    "plt.plot(train_errors)\n",
    "plt.plot(test_errors)\n",
    "plt.ylim((0,max(test_errors)))\n",
    "plt.show()"
   ]
  },
  {
   "cell_type": "code",
   "execution_count": null,
   "metadata": {
    "scrolled": false
   },
   "outputs": [],
   "source": [
    "for selidx in imagestraining[::10]:\n",
    "    plt.figure(figsize=(12,3))\n",
    "    inimg = trainingImages[selidx]\n",
    "    outimg = functions.inference(net,trainingImages[selidx])\n",
    "    plt.subplot(1,4,1)\n",
    "    plt.imshow(inimg[0])\n",
    "    plt.subplot(1,4,2)\n",
    "    plt.imshow(inimg[1])\n",
    "    plt.clim(0,1)\n",
    "    plt.subplot(1,4,3)\n",
    "    plt.imshow(outimg[0][0])\n",
    "    plt.clim(0,1)\n",
    "    plt.subplot(1,4,4)\n",
    "    plt.imshow(trainingMasks[selidx])\n",
    "    plt.clim(0,1)\n",
    "    plt.show()"
   ]
  },
  {
   "cell_type": "code",
   "execution_count": null,
   "metadata": {},
   "outputs": [],
   "source": [
    "plt.hist(trainingImages[50].reshape(-1),100)\n",
    "plt.show()"
   ]
  },
  {
   "cell_type": "code",
   "execution_count": null,
   "metadata": {},
   "outputs": [],
   "source": []
  }
 ],
 "metadata": {
  "kernelspec": {
   "display_name": "Python 3",
   "language": "python",
   "name": "python3"
  },
  "language_info": {
   "codemirror_mode": {
    "name": "ipython",
    "version": 3
   },
   "file_extension": ".py",
   "mimetype": "text/x-python",
   "name": "python",
   "nbconvert_exporter": "python",
   "pygments_lexer": "ipython3",
   "version": "3.7.3"
  }
 },
 "nbformat": 4,
 "nbformat_minor": 2
}
