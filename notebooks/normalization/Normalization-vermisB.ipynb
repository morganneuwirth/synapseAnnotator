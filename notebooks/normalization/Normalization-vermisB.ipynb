{
 "cells": [
  {
   "cell_type": "code",
   "execution_count": null,
   "metadata": {},
   "outputs": [],
   "source": [
    "import matplotlib\n",
    "import matplotlib.pyplot as plt\n",
    "import numpy as np\n",
    "import os\n",
    "from oiffile import imread\n",
    "import random\n",
    "import skimage\n",
    "from skimage.transform import resize\n",
    "import matplotlib\n",
    "import glob\n",
    "from scipy import stats\n",
    "from tqdm import tnrange"
   ]
  },
  {
   "cell_type": "code",
   "execution_count": null,
   "metadata": {},
   "outputs": [],
   "source": [
    "medianMatrix = np.zeros((3,16,847))\n",
    "stdDevMatrix = np.zeros((3,16,847))\n",
    "medianAbsDevMatrix = np.zeros((3,16,847))\n",
    "meanMatrix = np.zeros((3,16,847))\n",
    "maxMatrix = np.zeros((3,16,847))\n",
    "minMatrix = np.zeros((3,16,847))"
   ]
  },
  {
   "cell_type": "code",
   "execution_count": null,
   "metadata": {},
   "outputs": [],
   "source": [
    "for i in tnrange(1,848):\n",
    "    if i<10:\n",
    "        n = '000%s' % (i)\n",
    "    elif i <100:\n",
    "        n = '00%s' % (i)\n",
    "    else:\n",
    "        n = '0%s' % (i)\n",
    "                \n",
    "    p = 'E:\\pcp2cre_syptom_568_mglur1_1to200_647_1to250_vgat_1to200_488_1to250\\FV10__20190508_202030_vermisB/Track%s' % (n)\n",
    "    fdir = glob.glob(p)\n",
    "    name = 'Image%s_01.oib' % (n)\n",
    "    image = imread(os.path.join(fdir[0],name))\n",
    "        \n",
    "    for j in range(0,16):\n",
    "        imslice = image[:,j,:,:].transpose(1,2,0)\n",
    "        \n",
    "        for k in range(0,3):\n",
    "            medianMatrix[k][j][i-1] = np.median(imslice[:,:,k])\n",
    "            stdDevMatrix[k][j][i-1] = np.std(imslice[:,:,k])\n",
    "            medianAbsDevMatrix[k][j][i-1] = stats.median_absolute_deviation(imslice[:,:,k], axis=None)\n",
    "            meanMatrix[k][j][i-1] = np.mean(imslice[:,:,k])\n",
    "            maxMatrix[k][j][i-1] = np.amax(imslice[:,:,k])\n",
    "            minMatrix[k][j][i-1] = np.amin(imslice[:,:,k])    "
   ]
  },
  {
   "cell_type": "code",
   "execution_count": null,
   "metadata": {},
   "outputs": [],
   "source": [
    "np.save(\"../../datasets/vermisB/matrices/medianMatrix.npy\", medianMatrix)\n",
    "np.save(\"../../datasets/vermisB/matrices/stdDevMatrix.npy\", stdDevMatrix)\n",
    "np.save(\"../../datasets/vermisB/matrices/medianAbsDevMatrix.npy\", medianAbsDevMatrix)\n",
    "np.save(\"../../datasets/vermisB/matrices/meanMatrix.npy\", meanMatrix)\n",
    "np.save(\"../../datasets/vermisB/matrices/maxMatrix.npy\", maxMatrix)\n",
    "np.save(\"../../datasets/vermisB/matrices/minMatrix.npy\", minMatrix)"
   ]
  },
  {
   "cell_type": "code",
   "execution_count": null,
   "metadata": {},
   "outputs": [],
   "source": [
    "medianTotal = np.zeros((3,16))\n",
    "stdDevTotal = np.zeros((3,16))\n",
    "medianAbsDevTotal = np.zeros((3,16))\n",
    "meanTotal = np.zeros((3,16))\n",
    "maxTotal = np.zeros((3,16))\n",
    "minTotal = np.zeros((3,16))\n",
    "\n",
    "for d in range(0,16):\n",
    "    for h in range(0,3):\n",
    "        medianTotal[h][d] = np.median(medianMatrix[h][d])\n",
    "        stdDevTotal[h][d] = np.mean(stdDevMatrix[h][d])\n",
    "        medianAbsDevTotal[h][d] = np.mean(medianAbsDevMatrix[h][d])\n",
    "        meanTotal[h][d] = np.mean(meanMatrix[h][d])\n",
    "        maxTotal[h][d] = np.median(maxMatrix[h][d])\n",
    "        minTotal[h][d] = np.median(minMatrix[h][d])"
   ]
  },
  {
   "cell_type": "code",
   "execution_count": null,
   "metadata": {},
   "outputs": [],
   "source": [
    "np.save(\"../../datasets/vermisB/medianTotal.npy\", medianTotal)\n",
    "np.save(\"../../datasets/vermisB/meanTotal.npy\", meanTotal)"
   ]
  },
  {
   "cell_type": "code",
   "execution_count": null,
   "metadata": {},
   "outputs": [],
   "source": []
  }
 ],
 "metadata": {
  "kernelspec": {
   "display_name": "Python 3",
   "language": "python",
   "name": "python3"
  },
  "language_info": {
   "codemirror_mode": {
    "name": "ipython",
    "version": 3
   },
   "file_extension": ".py",
   "mimetype": "text/x-python",
   "name": "python",
   "nbconvert_exporter": "python",
   "pygments_lexer": "ipython3",
   "version": "3.7.3"
  }
 },
 "nbformat": 4,
 "nbformat_minor": 2
}
