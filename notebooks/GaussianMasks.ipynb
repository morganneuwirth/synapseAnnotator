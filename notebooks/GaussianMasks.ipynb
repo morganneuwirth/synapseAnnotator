{
 "cells": [
  {
   "cell_type": "code",
   "execution_count": 454,
   "metadata": {},
   "outputs": [],
   "source": [
    "import matplotlib\n",
    "import matplotlib.pyplot as plt\n",
    "import numpy as np\n",
    "import os\n",
    "from oiffile import imread\n",
    "from PIL import Image\n",
    "import random\n",
    "import skimage\n",
    "from skimage.transform import resize\n",
    "import matplotlib\n",
    "import glob\n",
    "import torch\n",
    "import sys\n",
    "sys.path.insert(0, '..')\n",
    "import scipy.io as sio\n",
    "import matplotlib.patches as patches\n",
    "from skimage.measure import label,regionprops\n",
    "from matplotlib_scalebar.scalebar import ScaleBar\n",
    "from skimage.transform import rescale\n",
    "import dognet\n",
    "import functions\n",
    "from sklearn.metrics import roc_curve, auc\n",
    "import os, os.path\n",
    "%matplotlib inline\n",
    "from skimage.draw import circle\n",
    "import math\n",
    "from scipy.ndimage import gaussian_filter\n",
    "\n",
    "#get training masks\n",
    "path1 = glob.glob(\"../datasets/flocculusA/trainingMasks/*.npy\")\n",
    "trainingMasks = functions.get_trainingMasks(path1)\n",
    "#get and scale training images\n",
    "path2 = glob.glob(\"../datasets/flocculusA/trainingImages3/*.npy\")\n",
    "trainingImages,collman = functions.get_trainingImages(path2,15)"
   ]
  },
  {
   "cell_type": "code",
   "execution_count": 537,
   "metadata": {},
   "outputs": [],
   "source": [
    "def make_labels_gaussian(img,ys,xs,radius=4):\n",
    "    labels = np.zeros(img.shape[1:])\n",
    "    if len(ys)==0:\n",
    "        return labels\n",
    "    \n",
    "    for xv,yv in zip(xs,ys):\n",
    "        if xv+11>230:\n",
    "            xin=230-xv\n",
    "            xin=int(math.ceil(xin))\n",
    "        else:\n",
    "            xin=11\n",
    "        if xv<10:\n",
    "            xde=xv\n",
    "            xde=int(math.floor(xde))\n",
    "        else:\n",
    "            xde=10\n",
    "        if yv+11>230:\n",
    "            yin=230-yv\n",
    "            yin=int(math.ceil(yin))\n",
    "        else:\n",
    "            yin=11\n",
    "        if yv<10:\n",
    "            yde=yv\n",
    "            yde=int(math.floor(yde))\n",
    "        else:\n",
    "            yde=10\n",
    "            \n",
    "        gimg = np.zeros((21,21))\n",
    "        \n",
    "        gimg[10][10]=1\n",
    "        gaussimg = gaussian_filter(gimg,4)\n",
    "        gaussimg=gaussimg[(10-xde):(10+xin),(10-yde):(10+yin)]\n",
    "        gaussimg.astype(int)\n",
    "        labels[int(xv-xde):int(xv+xin),int(yv-yde):int(yv+yin)] = np.maximum(labels[int(xv-xde):int(xv+xin),int(yv-yde):int(yv+yin)],gaussimg) \n",
    "    labels = labels/(np.amax(labels))\n",
    "    return labels"
   ]
  },
  {
   "cell_type": "code",
   "execution_count": 538,
   "metadata": {},
   "outputs": [],
   "source": [
    "#l=[0,1,2,3,4,5,6,7,8,9,10,11,12,13,15,17,28,29,31,33,35]\n",
    "l =[14,16,18,19,20,21,22,23,24,25,26,27,30,32,34]\n",
    "\n",
    "for x in l:\n",
    "        num = int(x/4)\n",
    "        \n",
    "        with open(\"../datasets/flocculusA/imagesUsed.txt\") as fin:\n",
    "            lines = fin.readlines()\n",
    "            lines.sort()\n",
    "        \n",
    "        fname = lines[num]\n",
    "        fname = fname[:12]\n",
    "\n",
    "        if x%4 == 0:\n",
    "            quad = \"LL\"\n",
    "        elif x%4 == 1:\n",
    "            quad = \"LR\"\n",
    "        elif x%4 == 2:\n",
    "            quad = \"UL\"\n",
    "        elif x%4 == 3:\n",
    "            quad = \"UR\"\n",
    "\n",
    "        lines = []\n",
    "\n",
    "        imageName = \"../datasets/flocculusA/trainingMasksGaussian/%s_%s_mask.npy\" % (fname,quad)\n",
    "\n",
    "        testingNumber=1\n",
    "        \n",
    "        b = functions.get_coords(x,testingNumber,len(trainingImages))\n",
    "        \n",
    "        y_gt = make_labels_gaussian(collman[:,x],np.array(b[x])[:,0],np.array(b[x])[:,1])\n",
    "        \n",
    "        #y_gt = np.zeros((230,230))\n",
    "        \n",
    "        np.save(imageName, y_gt)"
   ]
  },
  {
   "cell_type": "code",
   "execution_count": 533,
   "metadata": {},
   "outputs": [
    {
     "name": "stdout",
     "output_type": "stream",
     "text": [
      "../datasets/flocculusA/trainingMasksGaussian/Track0040_05_UL_mask.npy\n"
     ]
    }
   ],
   "source": [
    "print(imageName)"
   ]
  },
  {
   "cell_type": "code",
   "execution_count": 534,
   "metadata": {},
   "outputs": [
    {
     "data": {
      "text/plain": [
       "<matplotlib.image.AxesImage at 0x136f885f8>"
      ]
     },
     "execution_count": 534,
     "metadata": {},
     "output_type": "execute_result"
    },
    {
     "data": {
      "image/png": "[encoded data removed]",
      "text/plain": [
       "<Figure size 432x288 with 1 Axes>"
      ]
     },
     "metadata": {
      "needs_background": "light"
     },
     "output_type": "display_data"
    }
   ],
   "source": [
    "plt.imshow(y_gt)"
   ]
  },
  {
   "cell_type": "code",
   "execution_count": null,
   "metadata": {},
   "outputs": [],
   "source": []
  },
  {
   "cell_type": "code",
   "execution_count": null,
   "metadata": {},
   "outputs": [],
   "source": [
    "imag = np.zeros((3,230,230))\n",
    "xs=[50]\n",
    "ys=[3]\n",
    "plt.imshow(make_labels_gaussian(imag,xs,ys))"
   ]
  }
 ],
 "metadata": {
  "kernelspec": {
   "display_name": "Python 3",
   "language": "python",
   "name": "python3"
  },
  "language_info": {
   "codemirror_mode": {
    "name": "ipython",
    "version": 3
   },
   "file_extension": ".py",
   "mimetype": "text/x-python",
   "name": "python",
   "nbconvert_exporter": "python",
   "pygments_lexer": "ipython3",
   "version": "3.6.8"
  }
 },
 "nbformat": 4,
 "nbformat_minor": 2
}
