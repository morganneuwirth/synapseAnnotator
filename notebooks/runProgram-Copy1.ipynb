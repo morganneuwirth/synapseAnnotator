{
 "cells": [
  {
   "cell_type": "code",
   "execution_count": 9,
   "metadata": {},
   "outputs": [
    {
     "ename": "ModuleNotFoundError",
     "evalue": "No module named 'functions'",
     "output_type": "error",
     "traceback": [
      "\u001b[0;31m---------------------------------------------------------------------------\u001b[0m",
      "\u001b[0;31mModuleNotFoundError\u001b[0m                       Traceback (most recent call last)",
      "\u001b[0;32m<ipython-input-9-817a01b54c96>\u001b[0m in \u001b[0;36m<module>\u001b[0;34m\u001b[0m\n\u001b[1;32m     10\u001b[0m \u001b[0;32mimport\u001b[0m \u001b[0msys\u001b[0m\u001b[0;34m\u001b[0m\u001b[0;34m\u001b[0m\u001b[0m\n\u001b[1;32m     11\u001b[0m \u001b[0;32mimport\u001b[0m \u001b[0mdognet\u001b[0m\u001b[0;34m\u001b[0m\u001b[0;34m\u001b[0m\u001b[0m\n\u001b[0;32m---> 12\u001b[0;31m \u001b[0;32mimport\u001b[0m \u001b[0mfunctions\u001b[0m\u001b[0;34m\u001b[0m\u001b[0;34m\u001b[0m\u001b[0m\n\u001b[0m\u001b[1;32m     13\u001b[0m \u001b[0;32mimport\u001b[0m \u001b[0mskimage\u001b[0m\u001b[0;34m\u001b[0m\u001b[0;34m\u001b[0m\u001b[0m\n\u001b[1;32m     14\u001b[0m \u001b[0;32mfrom\u001b[0m \u001b[0mskimage\u001b[0m\u001b[0;34m.\u001b[0m\u001b[0mtransform\u001b[0m \u001b[0;32mimport\u001b[0m \u001b[0mresize\u001b[0m\u001b[0;34m\u001b[0m\u001b[0;34m\u001b[0m\u001b[0m\n",
      "\u001b[0;31mModuleNotFoundError\u001b[0m: No module named 'functions'"
     ]
    }
   ],
   "source": [
    "import matplotlib\n",
    "import matplotlib.pyplot as plt\n",
    "import numpy as np\n",
    "#import os\n",
    "from oiffile import imread\n",
    "from PIL import Image\n",
    "import random\n",
    "import glob\n",
    "import torch\n",
    "import sys\n",
    "import dognet\n",
    "import functions\n",
    "import skimage\n",
    "from skimage.transform import resize\n",
    "import tifffile as tiff\n",
    "import torch"
   ]
  },
  {
   "cell_type": "code",
   "execution_count": 5,
   "metadata": {},
   "outputs": [],
   "source": [
    "# load network\n",
    "#device = torch.device(\"cpu\")\n",
    "#net = dognet.SimpleAnisotropic(3,15,36).to(device)\n",
    "#net.weights_init()\n",
    "netName = \"newNetwork\"\n",
    "net = torch.load(netName)"
   ]
  },
  {
   "cell_type": "code",
   "execution_count": 9,
   "metadata": {},
   "outputs": [
    {
     "ename": "AttributeError",
     "evalue": "module 'dognet' has no attribute 'inference'",
     "output_type": "error",
     "traceback": [
      "\u001b[0;31m---------------------------------------------------------------------------\u001b[0m",
      "\u001b[0;31mAttributeError\u001b[0m                            Traceback (most recent call last)",
      "\u001b[0;32m<ipython-input-9-43ee5efbfe8e>\u001b[0m in \u001b[0;36m<module>\u001b[0;34m\u001b[0m\n\u001b[1;32m     44\u001b[0m         \u001b[0;31m# generate prediction maps\u001b[0m\u001b[0;34m\u001b[0m\u001b[0;34m\u001b[0m\u001b[0;34m\u001b[0m\u001b[0m\n\u001b[1;32m     45\u001b[0m         \u001b[0;32mfor\u001b[0m \u001b[0mj\u001b[0m \u001b[0;32min\u001b[0m \u001b[0mrange\u001b[0m\u001b[0;34m(\u001b[0m\u001b[0;36m0\u001b[0m\u001b[0;34m,\u001b[0m\u001b[0;36m4\u001b[0m\u001b[0;34m)\u001b[0m\u001b[0;34m:\u001b[0m\u001b[0;34m\u001b[0m\u001b[0;34m\u001b[0m\u001b[0m\n\u001b[0;32m---> 46\u001b[0;31m             \u001b[0mimg\u001b[0m \u001b[0;34m=\u001b[0m \u001b[0mdognet\u001b[0m\u001b[0;34m.\u001b[0m\u001b[0minference\u001b[0m\u001b[0;34m(\u001b[0m\u001b[0mnet\u001b[0m\u001b[0;34m,\u001b[0m\u001b[0mnp\u001b[0m\u001b[0;34m.\u001b[0m\u001b[0mtranspose\u001b[0m\u001b[0;34m(\u001b[0m\u001b[0mresize\u001b[0m\u001b[0;34m(\u001b[0m\u001b[0mnp\u001b[0m\u001b[0;34m.\u001b[0m\u001b[0mtranspose\u001b[0m\u001b[0;34m(\u001b[0m\u001b[0msmallPictures\u001b[0m\u001b[0;34m[\u001b[0m\u001b[0mj\u001b[0m\u001b[0;34m]\u001b[0m\u001b[0;34m,\u001b[0m\u001b[0;34m(\u001b[0m\u001b[0;36m1\u001b[0m\u001b[0;34m,\u001b[0m\u001b[0;36m2\u001b[0m\u001b[0;34m,\u001b[0m\u001b[0;36m0\u001b[0m\u001b[0;34m)\u001b[0m\u001b[0;34m)\u001b[0m\u001b[0;34m,\u001b[0m\u001b[0;34m(\u001b[0m\u001b[0;36m115\u001b[0m\u001b[0;34m,\u001b[0m\u001b[0;36m115\u001b[0m\u001b[0;34m)\u001b[0m\u001b[0;34m)\u001b[0m\u001b[0;34m,\u001b[0m\u001b[0;34m(\u001b[0m\u001b[0;36m2\u001b[0m\u001b[0;34m,\u001b[0m\u001b[0;36m0\u001b[0m\u001b[0;34m,\u001b[0m\u001b[0;36m1\u001b[0m\u001b[0;34m)\u001b[0m\u001b[0;34m)\u001b[0m\u001b[0;34m)\u001b[0m\u001b[0;34m\u001b[0m\u001b[0;34m\u001b[0m\u001b[0m\n\u001b[0m\u001b[1;32m     47\u001b[0m             \u001b[0mnewDim\u001b[0m \u001b[0;34m=\u001b[0m \u001b[0mimg\u001b[0m\u001b[0;34m[\u001b[0m\u001b[0;36m0\u001b[0m\u001b[0;34m,\u001b[0m \u001b[0;34m:\u001b[0m\u001b[0;34m,\u001b[0m \u001b[0;34m:\u001b[0m\u001b[0;34m,\u001b[0m \u001b[0;34m:\u001b[0m\u001b[0;34m]\u001b[0m\u001b[0;34m\u001b[0m\u001b[0;34m\u001b[0m\u001b[0m\n\u001b[1;32m     48\u001b[0m             \u001b[0mpMap\u001b[0m \u001b[0;34m=\u001b[0m \u001b[0mresize\u001b[0m\u001b[0;34m(\u001b[0m\u001b[0mnewDim\u001b[0m\u001b[0;34m,\u001b[0m\u001b[0;34m(\u001b[0m\u001b[0;36m1\u001b[0m\u001b[0;34m,\u001b[0m\u001b[0;36m1\u001b[0m\u001b[0;34m,\u001b[0m\u001b[0;36m460\u001b[0m\u001b[0;34m,\u001b[0m\u001b[0;36m460\u001b[0m\u001b[0;34m)\u001b[0m\u001b[0;34m,\u001b[0m \u001b[0morder\u001b[0m\u001b[0;34m=\u001b[0m\u001b[0;36m1\u001b[0m\u001b[0;34m,\u001b[0m \u001b[0mpreserve_range\u001b[0m\u001b[0;34m=\u001b[0m\u001b[0;32mTrue\u001b[0m\u001b[0;34m)\u001b[0m\u001b[0;34m\u001b[0m\u001b[0;34m\u001b[0m\u001b[0m\n",
      "\u001b[0;31mAttributeError\u001b[0m: module 'dognet' has no attribute 'inference'"
     ]
    }
   ],
   "source": [
    "for p in range(0,1):\n",
    "    \n",
    "    i= 180\n",
    "\n",
    "    if i<10:\n",
    "        n = '000%s' % (i)\n",
    "    elif i <100:\n",
    "        n = '00%s' % (i)\n",
    "    else:\n",
    "        n = '0%s' % (i)\n",
    "\n",
    "    fdir = '/Volumes/BACKUP/pcp2cre_syptom_568_mglur1_1to200_647_1to250_vgat_1to200_488_1to250/FV10__20190507_224650_flocculusA/Track%s' % (n)\n",
    "\n",
    "    im_name = 'Image%s_01.oib' % (n)\n",
    "    image = imread(os.path.join(fdir,im_name))\n",
    "    \n",
    "    predictedZImages = []\n",
    "    \n",
    "    for z_slice in range(0,16):\n",
    "    \n",
    "        # load pre-computed medians of slices\n",
    "        medianTotal= np.double(np.load(\"../datasets/flocculusA/medianTotal.npy\"))\n",
    "        \n",
    "        # normalize, shrink, and cut the image\n",
    "        image_save = np.double(image[:,z_slice,:,:].transpose(1,2,0))\n",
    "        image_save[:,:,0] = image_save[:,:,0]/medianTotal[0][z_slice]\n",
    "        image_save[:,:,1] = image_save[:,:,1]/medianTotal[1][z_slice]\n",
    "        image_save[:,:,2] = 0\n",
    "        image_save = resize(image_save,(400,400), order=1, preserve_range=True)\n",
    "\n",
    "        h=400\n",
    "        w=400\n",
    "        tol=30\n",
    "\n",
    "        UL=(image_save[0:int(h/2+tol),0:int(w/2+tol),:])       \n",
    "        UR=(image_save[0:int(h/2+tol),int(w/2-tol):w,:])\n",
    "        LL=(image_save[int(h/2-tol):h,0:int(w/2+tol),:])\n",
    "        LR=(image_save[int(h/2-tol):h,int(w/2-tol):w,:])\n",
    "\n",
    "        smallPictures=[UL,UR,LL,LR]\n",
    "        \n",
    "        predictedImages=[]\n",
    "        \n",
    "        # generate prediction maps\n",
    "        for j in range(0,4):\n",
    "            img = dognet.inference(net,np.transpose(resize(np.transpose(smallPictures[j],(1,2,0)),(115,115)),(2,0,1)))\n",
    "            newDim = img[0, :, :, :]\n",
    "            pMap = resize(newDim,(1,1,460,460), order=1, preserve_range=True)\n",
    "            predictedImages.append(pMap)\n",
    "        \n",
    "        #(x1,y1) as the top-left vertex and (x2,y2) as the bottom-right vertex, im[y1:y2, x1:x2]\n",
    "        # take mean image of the overlaps and remove edges of overlapping images\n",
    "        Ntol=60\n",
    "\n",
    "        top = (predictedImages[0][:, 0:h+Ntol, w-Ntol:w+Ntol] + predictedImages[1][:, 0:h+Ntol, 0:2*Ntol])/2\n",
    "        left = (predictedImages[0][:, h-Ntol:h+Ntol, 0:w+Ntol] + predictedImages[2][:, 0:2*Ntol, 0:w+Ntol])/2\n",
    "        bottom = (predictedImages[2][:, 0:h+Ntol, w-Ntol:w+Ntol] + predictedImages[3][:, 0:h+Ntol, 0:2*Ntol])/2\n",
    "        right = (predictedImages[1][:, h-Ntol:h+Ntol, 0:w+Ntol] + predictedImages[3][:, 0:2*Ntol, 0:w+Ntol])/2\n",
    "        middle = (top[:, h-Ntol:h+Ntol, 0:2*Ntol] + bottom[:,:, 0:2*Ntol, 0:2*Ntol] + right[:, 0:2*Ntol, 0:2*Ntol] + left[:, 0:2*Ntol, w-Ntol:w+Ntol]/4)\n",
    "        \n",
    "                \n",
    "        topLeft = predictedImages[0][:, 0:h-Ntol, 0:w-Ntol]\n",
    "        topRight = predictedImages[1][:, 0:h-Ntol, 2*Ntol:]\n",
    "        bottomLeft = predictedImages[2][:, 2*Ntol:, 0:w-Ntol]\n",
    "        bottomRight = predictedImages[3][:, 2*Ntol:, 2*Ntol:]\n",
    "        \n",
    "        #stitch together 4 prediction maps\n",
    "        finalImage = np.zeros((3,800,800))\n",
    "\n",
    "        finalImage[:, :h-Ntol, :w-Ntol] = topLeft\n",
    "        finalImage[:, :h+Ntol, w-Ntol:w+Ntol] = top\n",
    "        finalImage[:, :h-Ntol, w+Ntol:] = topRight\n",
    "        finalImage[:, h-Ntol:h+Ntol, :w+Ntol] = left\n",
    "        finalImage[:, h-Ntol:h+Ntol, w-Ntol:]=right\n",
    "        finalImage[:, h+Ntol:, :w-Ntol] = bottomLeft\n",
    "        finalImage[:, h-Ntol:, w-Ntol:w+Ntol] = bottom\n",
    "        finalImage[:, h+Ntol:, w+Ntol:] = bottomRight\n",
    "        #finalImage[:, h-Ntol:h+Ntol, w-Ntol:w+Ntol]= middle\n",
    "        \n",
    "        # save all final images in z stack\n",
    "        predictedZImages.append(finalImage)\n",
    "    \n",
    "    stack = np.stack(predictedZImages, axis=1)\n",
    "    \n",
    "            "
   ]
  },
  {
   "cell_type": "code",
   "execution_count": null,
   "metadata": {},
   "outputs": [],
   "source": []
  },
  {
   "cell_type": "code",
   "execution_count": null,
   "metadata": {},
   "outputs": [],
   "source": []
  },
  {
   "cell_type": "code",
   "execution_count": null,
   "metadata": {},
   "outputs": [],
   "source": []
  },
  {
   "cell_type": "code",
   "execution_count": null,
   "metadata": {},
   "outputs": [],
   "source": []
  },
  {
   "cell_type": "code",
   "execution_count": null,
   "metadata": {},
   "outputs": [],
   "source": []
  },
  {
   "cell_type": "code",
   "execution_count": null,
   "metadata": {},
   "outputs": [],
   "source": []
  },
  {
   "cell_type": "code",
   "execution_count": null,
   "metadata": {},
   "outputs": [],
   "source": []
  },
  {
   "cell_type": "code",
   "execution_count": 5,
   "metadata": {},
   "outputs": [],
   "source": [
    "image = Image.open(\"/Users/morganneuwirth/Desktop/download.jpg\")\n",
    "img = np.array(image)\n",
    "image_save = resize(img,(400,400), order=1, preserve_range=True)\n",
    "\n",
    "h=400\n",
    "w=400\n",
    "tol=30\n",
    "\n",
    "UL=(image_save[0:int(h/2+tol),0:int(w/2+tol),:])       \n",
    "UR=(image_save[0:int(h/2+tol),int(w/2-tol):w,:])\n",
    "LL=(image_save[int(h/2-tol):h,0:int(w/2+tol),:])\n",
    "LR=(image_save[int(h/2-tol):h,int(w/2-tol):w,:])\n",
    "\n",
    "UL = resize(UL,(460,460), order=1, preserve_range=True)\n",
    "UR = resize(UR,(460,460), order=1, preserve_range=True)\n",
    "LL = resize(LL,(460,460), order=1, preserve_range=True)\n",
    "LR = resize(LR,(460,460), order=1, preserve_range=True)\n",
    "\n",
    "predictedImages=[UL,UR,LL,LR]"
   ]
  },
  {
   "cell_type": "code",
   "execution_count": 6,
   "metadata": {},
   "outputs": [],
   "source": [
    "h=400\n",
    "w=400\n",
    "Ntol=60\n",
    "\n",
    "top = (predictedImages[0][0:h+Ntol, w-Ntol:w+Ntol, :] + predictedImages[1][0:h+Ntol, 0:2*Ntol, :])/2\n",
    "left = (predictedImages[0][h-Ntol:h+Ntol, 0:w+Ntol, :] + predictedImages[2][0:2*Ntol, 0:w+Ntol])/2\n",
    "bottom = (predictedImages[2][0:h+Ntol, w-Ntol:w+Ntol, :] + predictedImages[3][0:h+Ntol, 0:2*Ntol, :])/2\n",
    "right = (predictedImages[1][h-Ntol:h+Ntol, 0:w+Ntol, :] + predictedImages[3][0:2*Ntol, 0:w+Ntol])/2\n",
    "middle = (top[h-Ntol:h+Ntol, 0:2*Ntol, :] + bottom[0:2*Ntol, 0:2*Ntol, :] + right[0:2*Ntol, 0:2*Ntol, :] + left[0:2*Ntol, w-Ntol:w+Ntol, :]/4)\n",
    "\n",
    "topLeft = predictedImages[0][0:h-Ntol, 0:w-Ntol, :]\n",
    "topRight = predictedImages[1][0:h-Ntol, 2*Ntol:, :]\n",
    "bottomLeft = predictedImages[2][2*Ntol:, 0:w-Ntol, :]\n",
    "bottomRight = predictedImages[3][2*Ntol:, 2*Ntol:, :]"
   ]
  },
  {
   "cell_type": "code",
   "execution_count": 7,
   "metadata": {},
   "outputs": [],
   "source": [
    "finalImage = np.zeros((800,800,3))\n",
    "\n",
    "finalImage[:h-Ntol, :w-Ntol, :] = topLeft\n",
    "finalImage[:h+Ntol, w-Ntol:w+Ntol] = top\n",
    "finalImage[:h-Ntol, w+Ntol:, :] = topRight\n",
    "finalImage[h-Ntol:h+Ntol, :w+Ntol, :] = left\n",
    "finalImage[h-Ntol:h+Ntol, w-Ntol:, :]=right\n",
    "finalImage[h+Ntol:, :w-Ntol, :] = bottomLeft\n",
    "finalImage[h-Ntol:, w-Ntol:w+Ntol] = bottom\n",
    "finalImage[h+Ntol:, w+Ntol:, :] = bottomRight\n",
    "\n",
    "finalImage[h-Ntol:h+Ntol, w-Ntol:w+Ntol, :]= middle"
   ]
  },
  {
   "cell_type": "code",
   "execution_count": 8,
   "metadata": {},
   "outputs": [
    {
     "name": "stderr",
     "output_type": "stream",
     "text": [
      "Clipping input data to the valid range for imshow with RGB data ([0..1] for floats or [0..255] for integers).\n"
     ]
    },
    {
     "data": {
      "text/plain": [
       "<matplotlib.image.AxesImage at 0x12e8e7e48>"
      ]
     },
     "execution_count": 8,
     "metadata": {},
     "output_type": "execute_result"
    },
    {
     "data": {
      "image/png": "[encoded data removed]",
      "text/plain": [
       "<Figure size 432x288 with 1 Axes>"
      ]
     },
     "metadata": {
      "needs_background": "light"
     },
     "output_type": "display_data"
    }
   ],
   "source": [
    "plt.imshow(finalImage/250)"
   ]
  },
  {
   "cell_type": "code",
   "execution_count": null,
   "metadata": {},
   "outputs": [],
   "source": []
  }
 ],
 "metadata": {
  "kernelspec": {
   "display_name": "Python 3",
   "language": "python",
   "name": "python3"
  },
  "language_info": {
   "codemirror_mode": {
    "name": "ipython",
    "version": 3
   },
   "file_extension": ".py",
   "mimetype": "text/x-python",
   "name": "python",
   "nbconvert_exporter": "python",
   "pygments_lexer": "ipython3",
   "version": "3.6.8"
  }
 },
 "nbformat": 4,
 "nbformat_minor": 2
}
